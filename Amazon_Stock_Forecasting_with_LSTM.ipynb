{
  "cells": [
    {
      "cell_type": "markdown",
      "metadata": {
        "id": "view-in-github",
        "colab_type": "text"
      },
      "source": [
        "<a href=\"https://colab.research.google.com/github/inagib21/StockForecastingLSTM/blob/main/Amazon_Stock_Forecasting_with_LSTM.ipynb\" target=\"_parent\"><img src=\"https://colab.research.google.com/assets/colab-badge.svg\" alt=\"Open In Colab\"/></a>"
      ]
    },
    {
      "cell_type": "markdown",
      "source": [
        "Stock price forecasting is a popular application of deep learning models like Long Short-Term Memory (LSTM) networks. LSTM is a type of recurrent neural network (RNN) that is capable of learning long-term dependencies and capturing sequential patterns in the data."
      ],
      "metadata": {
        "id": "4SZZc7sx6efN"
      },
      "id": "4SZZc7sx6efN"
    },
    {
      "cell_type": "code",
      "execution_count": 1,
      "id": "2a4fdd0f",
      "metadata": {
        "id": "2a4fdd0f",
        "colab": {
          "base_uri": "https://localhost:8080/",
          "height": 424
        },
        "outputId": "fb0fa419-09aa-4ca0-fc8a-6873c3eabff6"
      },
      "outputs": [
        {
          "output_type": "execute_result",
          "data": {
            "text/plain": [
              "            Date        Open        High         Low       Close   Adj Close  \\\n",
              "0     1997-05-20    0.086458    0.087500    0.081771    0.081771    0.081771   \n",
              "1     1997-05-21    0.081771    0.082292    0.068750    0.071354    0.071354   \n",
              "2     1997-05-22    0.071875    0.072396    0.065625    0.069792    0.069792   \n",
              "3     1997-05-23    0.070313    0.076042    0.066667    0.075000    0.075000   \n",
              "4     1997-05-27    0.075521    0.082292    0.072917    0.079167    0.079167   \n",
              "...          ...         ...         ...         ...         ...         ...   \n",
              "6544  2023-05-22  116.769997  116.769997  114.250000  115.010002  115.010002   \n",
              "6545  2023-05-23  114.269997  117.139999  113.779999  114.989998  114.989998   \n",
              "6546  2023-05-24  115.349998  117.339996  115.019997  116.750000  116.750000   \n",
              "6547  2023-05-25  116.629997  116.870003  114.309998  115.000000  115.000000   \n",
              "6548  2023-05-26  116.040001  121.500000  116.019997  120.110001  120.110001   \n",
              "\n",
              "         Volume  \n",
              "0     109344000  \n",
              "1     377064000  \n",
              "2     235536000  \n",
              "3     318744000  \n",
              "4     173952000  \n",
              "...         ...  \n",
              "6544   70741100  \n",
              "6545   67576300  \n",
              "6546   63487900  \n",
              "6547   66496700  \n",
              "6548   96681000  \n",
              "\n",
              "[6549 rows x 7 columns]"
            ],
            "text/html": [
              "\n",
              "  <div id=\"df-c4f805c4-8c27-4ecd-b6f9-d212152b25f2\">\n",
              "    <div class=\"colab-df-container\">\n",
              "      <div>\n",
              "<style scoped>\n",
              "    .dataframe tbody tr th:only-of-type {\n",
              "        vertical-align: middle;\n",
              "    }\n",
              "\n",
              "    .dataframe tbody tr th {\n",
              "        vertical-align: top;\n",
              "    }\n",
              "\n",
              "    .dataframe thead th {\n",
              "        text-align: right;\n",
              "    }\n",
              "</style>\n",
              "<table border=\"1\" class=\"dataframe\">\n",
              "  <thead>\n",
              "    <tr style=\"text-align: right;\">\n",
              "      <th></th>\n",
              "      <th>Date</th>\n",
              "      <th>Open</th>\n",
              "      <th>High</th>\n",
              "      <th>Low</th>\n",
              "      <th>Close</th>\n",
              "      <th>Adj Close</th>\n",
              "      <th>Volume</th>\n",
              "    </tr>\n",
              "  </thead>\n",
              "  <tbody>\n",
              "    <tr>\n",
              "      <th>0</th>\n",
              "      <td>1997-05-20</td>\n",
              "      <td>0.086458</td>\n",
              "      <td>0.087500</td>\n",
              "      <td>0.081771</td>\n",
              "      <td>0.081771</td>\n",
              "      <td>0.081771</td>\n",
              "      <td>109344000</td>\n",
              "    </tr>\n",
              "    <tr>\n",
              "      <th>1</th>\n",
              "      <td>1997-05-21</td>\n",
              "      <td>0.081771</td>\n",
              "      <td>0.082292</td>\n",
              "      <td>0.068750</td>\n",
              "      <td>0.071354</td>\n",
              "      <td>0.071354</td>\n",
              "      <td>377064000</td>\n",
              "    </tr>\n",
              "    <tr>\n",
              "      <th>2</th>\n",
              "      <td>1997-05-22</td>\n",
              "      <td>0.071875</td>\n",
              "      <td>0.072396</td>\n",
              "      <td>0.065625</td>\n",
              "      <td>0.069792</td>\n",
              "      <td>0.069792</td>\n",
              "      <td>235536000</td>\n",
              "    </tr>\n",
              "    <tr>\n",
              "      <th>3</th>\n",
              "      <td>1997-05-23</td>\n",
              "      <td>0.070313</td>\n",
              "      <td>0.076042</td>\n",
              "      <td>0.066667</td>\n",
              "      <td>0.075000</td>\n",
              "      <td>0.075000</td>\n",
              "      <td>318744000</td>\n",
              "    </tr>\n",
              "    <tr>\n",
              "      <th>4</th>\n",
              "      <td>1997-05-27</td>\n",
              "      <td>0.075521</td>\n",
              "      <td>0.082292</td>\n",
              "      <td>0.072917</td>\n",
              "      <td>0.079167</td>\n",
              "      <td>0.079167</td>\n",
              "      <td>173952000</td>\n",
              "    </tr>\n",
              "    <tr>\n",
              "      <th>...</th>\n",
              "      <td>...</td>\n",
              "      <td>...</td>\n",
              "      <td>...</td>\n",
              "      <td>...</td>\n",
              "      <td>...</td>\n",
              "      <td>...</td>\n",
              "      <td>...</td>\n",
              "    </tr>\n",
              "    <tr>\n",
              "      <th>6544</th>\n",
              "      <td>2023-05-22</td>\n",
              "      <td>116.769997</td>\n",
              "      <td>116.769997</td>\n",
              "      <td>114.250000</td>\n",
              "      <td>115.010002</td>\n",
              "      <td>115.010002</td>\n",
              "      <td>70741100</td>\n",
              "    </tr>\n",
              "    <tr>\n",
              "      <th>6545</th>\n",
              "      <td>2023-05-23</td>\n",
              "      <td>114.269997</td>\n",
              "      <td>117.139999</td>\n",
              "      <td>113.779999</td>\n",
              "      <td>114.989998</td>\n",
              "      <td>114.989998</td>\n",
              "      <td>67576300</td>\n",
              "    </tr>\n",
              "    <tr>\n",
              "      <th>6546</th>\n",
              "      <td>2023-05-24</td>\n",
              "      <td>115.349998</td>\n",
              "      <td>117.339996</td>\n",
              "      <td>115.019997</td>\n",
              "      <td>116.750000</td>\n",
              "      <td>116.750000</td>\n",
              "      <td>63487900</td>\n",
              "    </tr>\n",
              "    <tr>\n",
              "      <th>6547</th>\n",
              "      <td>2023-05-25</td>\n",
              "      <td>116.629997</td>\n",
              "      <td>116.870003</td>\n",
              "      <td>114.309998</td>\n",
              "      <td>115.000000</td>\n",
              "      <td>115.000000</td>\n",
              "      <td>66496700</td>\n",
              "    </tr>\n",
              "    <tr>\n",
              "      <th>6548</th>\n",
              "      <td>2023-05-26</td>\n",
              "      <td>116.040001</td>\n",
              "      <td>121.500000</td>\n",
              "      <td>116.019997</td>\n",
              "      <td>120.110001</td>\n",
              "      <td>120.110001</td>\n",
              "      <td>96681000</td>\n",
              "    </tr>\n",
              "  </tbody>\n",
              "</table>\n",
              "<p>6549 rows × 7 columns</p>\n",
              "</div>\n",
              "      <button class=\"colab-df-convert\" onclick=\"convertToInteractive('df-c4f805c4-8c27-4ecd-b6f9-d212152b25f2')\"\n",
              "              title=\"Convert this dataframe to an interactive table.\"\n",
              "              style=\"display:none;\">\n",
              "        \n",
              "  <svg xmlns=\"http://www.w3.org/2000/svg\" height=\"24px\"viewBox=\"0 0 24 24\"\n",
              "       width=\"24px\">\n",
              "    <path d=\"M0 0h24v24H0V0z\" fill=\"none\"/>\n",
              "    <path d=\"M18.56 5.44l.94 2.06.94-2.06 2.06-.94-2.06-.94-.94-2.06-.94 2.06-2.06.94zm-11 1L8.5 8.5l.94-2.06 2.06-.94-2.06-.94L8.5 2.5l-.94 2.06-2.06.94zm10 10l.94 2.06.94-2.06 2.06-.94-2.06-.94-.94-2.06-.94 2.06-2.06.94z\"/><path d=\"M17.41 7.96l-1.37-1.37c-.4-.4-.92-.59-1.43-.59-.52 0-1.04.2-1.43.59L10.3 9.45l-7.72 7.72c-.78.78-.78 2.05 0 2.83L4 21.41c.39.39.9.59 1.41.59.51 0 1.02-.2 1.41-.59l7.78-7.78 2.81-2.81c.8-.78.8-2.07 0-2.86zM5.41 20L4 18.59l7.72-7.72 1.47 1.35L5.41 20z\"/>\n",
              "  </svg>\n",
              "      </button>\n",
              "      \n",
              "  <style>\n",
              "    .colab-df-container {\n",
              "      display:flex;\n",
              "      flex-wrap:wrap;\n",
              "      gap: 12px;\n",
              "    }\n",
              "\n",
              "    .colab-df-convert {\n",
              "      background-color: #E8F0FE;\n",
              "      border: none;\n",
              "      border-radius: 50%;\n",
              "      cursor: pointer;\n",
              "      display: none;\n",
              "      fill: #1967D2;\n",
              "      height: 32px;\n",
              "      padding: 0 0 0 0;\n",
              "      width: 32px;\n",
              "    }\n",
              "\n",
              "    .colab-df-convert:hover {\n",
              "      background-color: #E2EBFA;\n",
              "      box-shadow: 0px 1px 2px rgba(60, 64, 67, 0.3), 0px 1px 3px 1px rgba(60, 64, 67, 0.15);\n",
              "      fill: #174EA6;\n",
              "    }\n",
              "\n",
              "    [theme=dark] .colab-df-convert {\n",
              "      background-color: #3B4455;\n",
              "      fill: #D2E3FC;\n",
              "    }\n",
              "\n",
              "    [theme=dark] .colab-df-convert:hover {\n",
              "      background-color: #434B5C;\n",
              "      box-shadow: 0px 1px 3px 1px rgba(0, 0, 0, 0.15);\n",
              "      filter: drop-shadow(0px 1px 2px rgba(0, 0, 0, 0.3));\n",
              "      fill: #FFFFFF;\n",
              "    }\n",
              "  </style>\n",
              "\n",
              "      <script>\n",
              "        const buttonEl =\n",
              "          document.querySelector('#df-c4f805c4-8c27-4ecd-b6f9-d212152b25f2 button.colab-df-convert');\n",
              "        buttonEl.style.display =\n",
              "          google.colab.kernel.accessAllowed ? 'block' : 'none';\n",
              "\n",
              "        async function convertToInteractive(key) {\n",
              "          const element = document.querySelector('#df-c4f805c4-8c27-4ecd-b6f9-d212152b25f2');\n",
              "          const dataTable =\n",
              "            await google.colab.kernel.invokeFunction('convertToInteractive',\n",
              "                                                     [key], {});\n",
              "          if (!dataTable) return;\n",
              "\n",
              "          const docLinkHtml = 'Like what you see? Visit the ' +\n",
              "            '<a target=\"_blank\" href=https://colab.research.google.com/notebooks/data_table.ipynb>data table notebook</a>'\n",
              "            + ' to learn more about interactive tables.';\n",
              "          element.innerHTML = '';\n",
              "          dataTable['output_type'] = 'display_data';\n",
              "          await google.colab.output.renderOutput(dataTable, element);\n",
              "          const docLink = document.createElement('div');\n",
              "          docLink.innerHTML = docLinkHtml;\n",
              "          element.appendChild(docLink);\n",
              "        }\n",
              "      </script>\n",
              "    </div>\n",
              "  </div>\n",
              "  "
            ]
          },
          "metadata": {},
          "execution_count": 1
        }
      ],
      "source": [
        "#import libraries:\n",
        "import pandas as pd\n",
        "import numpy as np\n",
        "import matplotlib.pyplot as plt\n",
        "\n",
        "import torch\n",
        "import torch.nn as nn\n",
        "\n",
        "data = pd.read_csv('AMZN.csv')\n",
        "\n",
        "data"
      ]
    },
    {
      "cell_type": "markdown",
      "source": [
        "for this analysis all we will use is the closing date"
      ],
      "metadata": {
        "id": "96-QWxtk6keN"
      },
      "id": "96-QWxtk6keN"
    },
    {
      "cell_type": "code",
      "source": [
        "\n",
        "data = data[['Date', 'Close']]\n",
        "data"
      ],
      "metadata": {
        "colab": {
          "base_uri": "https://localhost:8080/",
          "height": 424
        },
        "id": "WtCP8-cDbg9R",
        "outputId": "46c3032d-9f72-4f95-8d98-91660500f89a"
      },
      "id": "WtCP8-cDbg9R",
      "execution_count": 2,
      "outputs": [
        {
          "output_type": "execute_result",
          "data": {
            "text/plain": [
              "            Date       Close\n",
              "0     1997-05-20    0.081771\n",
              "1     1997-05-21    0.071354\n",
              "2     1997-05-22    0.069792\n",
              "3     1997-05-23    0.075000\n",
              "4     1997-05-27    0.079167\n",
              "...          ...         ...\n",
              "6544  2023-05-22  115.010002\n",
              "6545  2023-05-23  114.989998\n",
              "6546  2023-05-24  116.750000\n",
              "6547  2023-05-25  115.000000\n",
              "6548  2023-05-26  120.110001\n",
              "\n",
              "[6549 rows x 2 columns]"
            ],
            "text/html": [
              "\n",
              "  <div id=\"df-e8c0263c-b57e-46a3-884f-7304affb1d37\">\n",
              "    <div class=\"colab-df-container\">\n",
              "      <div>\n",
              "<style scoped>\n",
              "    .dataframe tbody tr th:only-of-type {\n",
              "        vertical-align: middle;\n",
              "    }\n",
              "\n",
              "    .dataframe tbody tr th {\n",
              "        vertical-align: top;\n",
              "    }\n",
              "\n",
              "    .dataframe thead th {\n",
              "        text-align: right;\n",
              "    }\n",
              "</style>\n",
              "<table border=\"1\" class=\"dataframe\">\n",
              "  <thead>\n",
              "    <tr style=\"text-align: right;\">\n",
              "      <th></th>\n",
              "      <th>Date</th>\n",
              "      <th>Close</th>\n",
              "    </tr>\n",
              "  </thead>\n",
              "  <tbody>\n",
              "    <tr>\n",
              "      <th>0</th>\n",
              "      <td>1997-05-20</td>\n",
              "      <td>0.081771</td>\n",
              "    </tr>\n",
              "    <tr>\n",
              "      <th>1</th>\n",
              "      <td>1997-05-21</td>\n",
              "      <td>0.071354</td>\n",
              "    </tr>\n",
              "    <tr>\n",
              "      <th>2</th>\n",
              "      <td>1997-05-22</td>\n",
              "      <td>0.069792</td>\n",
              "    </tr>\n",
              "    <tr>\n",
              "      <th>3</th>\n",
              "      <td>1997-05-23</td>\n",
              "      <td>0.075000</td>\n",
              "    </tr>\n",
              "    <tr>\n",
              "      <th>4</th>\n",
              "      <td>1997-05-27</td>\n",
              "      <td>0.079167</td>\n",
              "    </tr>\n",
              "    <tr>\n",
              "      <th>...</th>\n",
              "      <td>...</td>\n",
              "      <td>...</td>\n",
              "    </tr>\n",
              "    <tr>\n",
              "      <th>6544</th>\n",
              "      <td>2023-05-22</td>\n",
              "      <td>115.010002</td>\n",
              "    </tr>\n",
              "    <tr>\n",
              "      <th>6545</th>\n",
              "      <td>2023-05-23</td>\n",
              "      <td>114.989998</td>\n",
              "    </tr>\n",
              "    <tr>\n",
              "      <th>6546</th>\n",
              "      <td>2023-05-24</td>\n",
              "      <td>116.750000</td>\n",
              "    </tr>\n",
              "    <tr>\n",
              "      <th>6547</th>\n",
              "      <td>2023-05-25</td>\n",
              "      <td>115.000000</td>\n",
              "    </tr>\n",
              "    <tr>\n",
              "      <th>6548</th>\n",
              "      <td>2023-05-26</td>\n",
              "      <td>120.110001</td>\n",
              "    </tr>\n",
              "  </tbody>\n",
              "</table>\n",
              "<p>6549 rows × 2 columns</p>\n",
              "</div>\n",
              "      <button class=\"colab-df-convert\" onclick=\"convertToInteractive('df-e8c0263c-b57e-46a3-884f-7304affb1d37')\"\n",
              "              title=\"Convert this dataframe to an interactive table.\"\n",
              "              style=\"display:none;\">\n",
              "        \n",
              "  <svg xmlns=\"http://www.w3.org/2000/svg\" height=\"24px\"viewBox=\"0 0 24 24\"\n",
              "       width=\"24px\">\n",
              "    <path d=\"M0 0h24v24H0V0z\" fill=\"none\"/>\n",
              "    <path d=\"M18.56 5.44l.94 2.06.94-2.06 2.06-.94-2.06-.94-.94-2.06-.94 2.06-2.06.94zm-11 1L8.5 8.5l.94-2.06 2.06-.94-2.06-.94L8.5 2.5l-.94 2.06-2.06.94zm10 10l.94 2.06.94-2.06 2.06-.94-2.06-.94-.94-2.06-.94 2.06-2.06.94z\"/><path d=\"M17.41 7.96l-1.37-1.37c-.4-.4-.92-.59-1.43-.59-.52 0-1.04.2-1.43.59L10.3 9.45l-7.72 7.72c-.78.78-.78 2.05 0 2.83L4 21.41c.39.39.9.59 1.41.59.51 0 1.02-.2 1.41-.59l7.78-7.78 2.81-2.81c.8-.78.8-2.07 0-2.86zM5.41 20L4 18.59l7.72-7.72 1.47 1.35L5.41 20z\"/>\n",
              "  </svg>\n",
              "      </button>\n",
              "      \n",
              "  <style>\n",
              "    .colab-df-container {\n",
              "      display:flex;\n",
              "      flex-wrap:wrap;\n",
              "      gap: 12px;\n",
              "    }\n",
              "\n",
              "    .colab-df-convert {\n",
              "      background-color: #E8F0FE;\n",
              "      border: none;\n",
              "      border-radius: 50%;\n",
              "      cursor: pointer;\n",
              "      display: none;\n",
              "      fill: #1967D2;\n",
              "      height: 32px;\n",
              "      padding: 0 0 0 0;\n",
              "      width: 32px;\n",
              "    }\n",
              "\n",
              "    .colab-df-convert:hover {\n",
              "      background-color: #E2EBFA;\n",
              "      box-shadow: 0px 1px 2px rgba(60, 64, 67, 0.3), 0px 1px 3px 1px rgba(60, 64, 67, 0.15);\n",
              "      fill: #174EA6;\n",
              "    }\n",
              "\n",
              "    [theme=dark] .colab-df-convert {\n",
              "      background-color: #3B4455;\n",
              "      fill: #D2E3FC;\n",
              "    }\n",
              "\n",
              "    [theme=dark] .colab-df-convert:hover {\n",
              "      background-color: #434B5C;\n",
              "      box-shadow: 0px 1px 3px 1px rgba(0, 0, 0, 0.15);\n",
              "      filter: drop-shadow(0px 1px 2px rgba(0, 0, 0, 0.3));\n",
              "      fill: #FFFFFF;\n",
              "    }\n",
              "  </style>\n",
              "\n",
              "      <script>\n",
              "        const buttonEl =\n",
              "          document.querySelector('#df-e8c0263c-b57e-46a3-884f-7304affb1d37 button.colab-df-convert');\n",
              "        buttonEl.style.display =\n",
              "          google.colab.kernel.accessAllowed ? 'block' : 'none';\n",
              "\n",
              "        async function convertToInteractive(key) {\n",
              "          const element = document.querySelector('#df-e8c0263c-b57e-46a3-884f-7304affb1d37');\n",
              "          const dataTable =\n",
              "            await google.colab.kernel.invokeFunction('convertToInteractive',\n",
              "                                                     [key], {});\n",
              "          if (!dataTable) return;\n",
              "\n",
              "          const docLinkHtml = 'Like what you see? Visit the ' +\n",
              "            '<a target=\"_blank\" href=https://colab.research.google.com/notebooks/data_table.ipynb>data table notebook</a>'\n",
              "            + ' to learn more about interactive tables.';\n",
              "          element.innerHTML = '';\n",
              "          dataTable['output_type'] = 'display_data';\n",
              "          await google.colab.output.renderOutput(dataTable, element);\n",
              "          const docLink = document.createElement('div');\n",
              "          docLink.innerHTML = docLinkHtml;\n",
              "          element.appendChild(docLink);\n",
              "        }\n",
              "      </script>\n",
              "    </div>\n",
              "  </div>\n",
              "  "
            ]
          },
          "metadata": {},
          "execution_count": 2
        }
      ]
    },
    {
      "cell_type": "code",
      "source": [
        "device = 'cuda:0' if torch.cuda.is_available() else 'cpu'\n",
        "device"
      ],
      "metadata": {
        "colab": {
          "base_uri": "https://localhost:8080/",
          "height": 35
        },
        "id": "9akB333XcFJ6",
        "outputId": "2a549e71-1ba4-4be8-c288-12db1a41ceea"
      },
      "id": "9akB333XcFJ6",
      "execution_count": 3,
      "outputs": [
        {
          "output_type": "execute_result",
          "data": {
            "text/plain": [
              "'cuda:0'"
            ],
            "application/vnd.google.colaboratory.intrinsic+json": {
              "type": "string"
            }
          },
          "metadata": {},
          "execution_count": 3
        }
      ]
    },
    {
      "cell_type": "code",
      "source": [
        "data['Date'] = pd.to_datetime(data['Date'])\n",
        "\n",
        "plt.plot(data['Date'], data['Close'])"
      ],
      "metadata": {
        "colab": {
          "base_uri": "https://localhost:8080/",
          "height": 575
        },
        "id": "tr2YuqKGcXcJ",
        "outputId": "6f707ccb-9497-4058-a04f-426e5de0bf59"
      },
      "id": "tr2YuqKGcXcJ",
      "execution_count": 4,
      "outputs": [
        {
          "output_type": "stream",
          "name": "stderr",
          "text": [
            "<ipython-input-4-27440ea654b2>:1: SettingWithCopyWarning: \n",
            "A value is trying to be set on a copy of a slice from a DataFrame.\n",
            "Try using .loc[row_indexer,col_indexer] = value instead\n",
            "\n",
            "See the caveats in the documentation: https://pandas.pydata.org/pandas-docs/stable/user_guide/indexing.html#returning-a-view-versus-a-copy\n",
            "  data['Date'] = pd.to_datetime(data['Date'])\n"
          ]
        },
        {
          "output_type": "execute_result",
          "data": {
            "text/plain": [
              "[<matplotlib.lines.Line2D at 0x7f827f36f4c0>]"
            ]
          },
          "metadata": {},
          "execution_count": 4
        },
        {
          "output_type": "display_data",
          "data": {
            "text/plain": [
              "<Figure size 640x480 with 1 Axes>"
            ],
            "image/png": "[encoded data removed]"
          },
          "metadata": {}
        }
      ]
    },
    {
      "cell_type": "code",
      "source": [
        "from copy import deepcopy as dc\n",
        "\n",
        "# Function to prepare the DataFrame for LSTM-based forecasting\n",
        "def prepare_dataframe_for_lstm(df, n_steps):\n",
        "    df = dc(df)  # Create a deep copy of the input DataFrame\n",
        "    \n",
        "    df.set_index('Date', inplace=True)  # Set the 'Date' column as the index\n",
        "    \n",
        "    # Iterate over the previous time steps\n",
        "    for i in range(1, n_steps+1):\n",
        "        df[f'Close(t-{i})'] = df['Close'].shift(i)  # Create new columns with shifted closing prices\n",
        "        \n",
        "    df.dropna(inplace=True)  # Remove rows with missing values (NaN)\n",
        "    \n",
        "    return df  # Return the preprocessed DataFrame\n",
        "\n",
        "lookback = 7\n",
        "shifted_df = prepare_dataframe_for_lstm(data, lookback)\n",
        "shifted_df\n"
      ],
      "metadata": {
        "colab": {
          "base_uri": "https://localhost:8080/",
          "height": 690
        },
        "id": "Q4ma6QCscwfB",
        "outputId": "5d3ce9f7-8f73-4206-ab0c-ee14d06e6db0"
      },
      "id": "Q4ma6QCscwfB",
      "execution_count": 5,
      "outputs": [
        {
          "output_type": "execute_result",
          "data": {
            "text/plain": [
              "                 Close  Close(t-1)  Close(t-2)  Close(t-3)  Close(t-4)  \\\n",
              "Date                                                                     \n",
              "1997-05-30    0.075000    0.075260    0.076563    0.079167    0.075000   \n",
              "1997-06-02    0.075521    0.075000    0.075260    0.076563    0.079167   \n",
              "1997-06-03    0.073958    0.075521    0.075000    0.075260    0.076563   \n",
              "1997-06-04    0.070833    0.073958    0.075521    0.075000    0.075260   \n",
              "1997-06-05    0.077083    0.070833    0.073958    0.075521    0.075000   \n",
              "...                ...         ...         ...         ...         ...   \n",
              "2023-05-22  115.010002  116.250000  118.150002  115.500000  113.400002   \n",
              "2023-05-23  114.989998  115.010002  116.250000  118.150002  115.500000   \n",
              "2023-05-24  116.750000  114.989998  115.010002  116.250000  118.150002   \n",
              "2023-05-25  115.000000  116.750000  114.989998  115.010002  116.250000   \n",
              "2023-05-26  120.110001  115.000000  116.750000  114.989998  115.010002   \n",
              "\n",
              "            Close(t-5)  Close(t-6)  Close(t-7)  \n",
              "Date                                            \n",
              "1997-05-30    0.069792    0.071354    0.081771  \n",
              "1997-06-02    0.075000    0.069792    0.071354  \n",
              "1997-06-03    0.079167    0.075000    0.069792  \n",
              "1997-06-04    0.076563    0.079167    0.075000  \n",
              "1997-06-05    0.075260    0.076563    0.079167  \n",
              "...                ...         ...         ...  \n",
              "2023-05-22  111.199997  110.260002  112.180000  \n",
              "2023-05-23  113.400002  111.199997  110.260002  \n",
              "2023-05-24  115.500000  113.400002  111.199997  \n",
              "2023-05-25  118.150002  115.500000  113.400002  \n",
              "2023-05-26  116.250000  118.150002  115.500000  \n",
              "\n",
              "[6542 rows x 8 columns]"
            ],
            "text/html": [
              "\n",
              "  <div id=\"df-f9f01f26-836a-42d1-879a-4216d833dd4b\">\n",
              "    <div class=\"colab-df-container\">\n",
              "      <div>\n",
              "<style scoped>\n",
              "    .dataframe tbody tr th:only-of-type {\n",
              "        vertical-align: middle;\n",
              "    }\n",
              "\n",
              "    .dataframe tbody tr th {\n",
              "        vertical-align: top;\n",
              "    }\n",
              "\n",
              "    .dataframe thead th {\n",
              "        text-align: right;\n",
              "    }\n",
              "</style>\n",
              "<table border=\"1\" class=\"dataframe\">\n",
              "  <thead>\n",
              "    <tr style=\"text-align: right;\">\n",
              "      <th></th>\n",
              "      <th>Close</th>\n",
              "      <th>Close(t-1)</th>\n",
              "      <th>Close(t-2)</th>\n",
              "      <th>Close(t-3)</th>\n",
              "      <th>Close(t-4)</th>\n",
              "      <th>Close(t-5)</th>\n",
              "      <th>Close(t-6)</th>\n",
              "      <th>Close(t-7)</th>\n",
              "    </tr>\n",
              "    <tr>\n",
              "      <th>Date</th>\n",
              "      <th></th>\n",
              "      <th></th>\n",
              "      <th></th>\n",
              "      <th></th>\n",
              "      <th></th>\n",
              "      <th></th>\n",
              "      <th></th>\n",
              "      <th></th>\n",
              "    </tr>\n",
              "  </thead>\n",
              "  <tbody>\n",
              "    <tr>\n",
              "      <th>1997-05-30</th>\n",
              "      <td>0.075000</td>\n",
              "      <td>0.075260</td>\n",
              "      <td>0.076563</td>\n",
              "      <td>0.079167</td>\n",
              "      <td>0.075000</td>\n",
              "      <td>0.069792</td>\n",
              "      <td>0.071354</td>\n",
              "      <td>0.081771</td>\n",
              "    </tr>\n",
              "    <tr>\n",
              "      <th>1997-06-02</th>\n",
              "      <td>0.075521</td>\n",
              "      <td>0.075000</td>\n",
              "      <td>0.075260</td>\n",
              "      <td>0.076563</td>\n",
              "      <td>0.079167</td>\n",
              "      <td>0.075000</td>\n",
              "      <td>0.069792</td>\n",
              "      <td>0.071354</td>\n",
              "    </tr>\n",
              "    <tr>\n",
              "      <th>1997-06-03</th>\n",
              "      <td>0.073958</td>\n",
              "      <td>0.075521</td>\n",
              "      <td>0.075000</td>\n",
              "      <td>0.075260</td>\n",
              "      <td>0.076563</td>\n",
              "      <td>0.079167</td>\n",
              "      <td>0.075000</td>\n",
              "      <td>0.069792</td>\n",
              "    </tr>\n",
              "    <tr>\n",
              "      <th>1997-06-04</th>\n",
              "      <td>0.070833</td>\n",
              "      <td>0.073958</td>\n",
              "      <td>0.075521</td>\n",
              "      <td>0.075000</td>\n",
              "      <td>0.075260</td>\n",
              "      <td>0.076563</td>\n",
              "      <td>0.079167</td>\n",
              "      <td>0.075000</td>\n",
              "    </tr>\n",
              "    <tr>\n",
              "      <th>1997-06-05</th>\n",
              "      <td>0.077083</td>\n",
              "      <td>0.070833</td>\n",
              "      <td>0.073958</td>\n",
              "      <td>0.075521</td>\n",
              "      <td>0.075000</td>\n",
              "      <td>0.075260</td>\n",
              "      <td>0.076563</td>\n",
              "      <td>0.079167</td>\n",
              "    </tr>\n",
              "    <tr>\n",
              "      <th>...</th>\n",
              "      <td>...</td>\n",
              "      <td>...</td>\n",
              "      <td>...</td>\n",
              "      <td>...</td>\n",
              "      <td>...</td>\n",
              "      <td>...</td>\n",
              "      <td>...</td>\n",
              "      <td>...</td>\n",
              "    </tr>\n",
              "    <tr>\n",
              "      <th>2023-05-22</th>\n",
              "      <td>115.010002</td>\n",
              "      <td>116.250000</td>\n",
              "      <td>118.150002</td>\n",
              "      <td>115.500000</td>\n",
              "      <td>113.400002</td>\n",
              "      <td>111.199997</td>\n",
              "      <td>110.260002</td>\n",
              "      <td>112.180000</td>\n",
              "    </tr>\n",
              "    <tr>\n",
              "      <th>2023-05-23</th>\n",
              "      <td>114.989998</td>\n",
              "      <td>115.010002</td>\n",
              "      <td>116.250000</td>\n",
              "      <td>118.150002</td>\n",
              "      <td>115.500000</td>\n",
              "      <td>113.400002</td>\n",
              "      <td>111.199997</td>\n",
              "      <td>110.260002</td>\n",
              "    </tr>\n",
              "    <tr>\n",
              "      <th>2023-05-24</th>\n",
              "      <td>116.750000</td>\n",
              "      <td>114.989998</td>\n",
              "      <td>115.010002</td>\n",
              "      <td>116.250000</td>\n",
              "      <td>118.150002</td>\n",
              "      <td>115.500000</td>\n",
              "      <td>113.400002</td>\n",
              "      <td>111.199997</td>\n",
              "    </tr>\n",
              "    <tr>\n",
              "      <th>2023-05-25</th>\n",
              "      <td>115.000000</td>\n",
              "      <td>116.750000</td>\n",
              "      <td>114.989998</td>\n",
              "      <td>115.010002</td>\n",
              "      <td>116.250000</td>\n",
              "      <td>118.150002</td>\n",
              "      <td>115.500000</td>\n",
              "      <td>113.400002</td>\n",
              "    </tr>\n",
              "    <tr>\n",
              "      <th>2023-05-26</th>\n",
              "      <td>120.110001</td>\n",
              "      <td>115.000000</td>\n",
              "      <td>116.750000</td>\n",
              "      <td>114.989998</td>\n",
              "      <td>115.010002</td>\n",
              "      <td>116.250000</td>\n",
              "      <td>118.150002</td>\n",
              "      <td>115.500000</td>\n",
              "    </tr>\n",
              "  </tbody>\n",
              "</table>\n",
              "<p>6542 rows × 8 columns</p>\n",
              "</div>\n",
              "      <button class=\"colab-df-convert\" onclick=\"convertToInteractive('df-f9f01f26-836a-42d1-879a-4216d833dd4b')\"\n",
              "              title=\"Convert this dataframe to an interactive table.\"\n",
              "              style=\"display:none;\">\n",
              "        \n",
              "  <svg xmlns=\"http://www.w3.org/2000/svg\" height=\"24px\"viewBox=\"0 0 24 24\"\n",
              "       width=\"24px\">\n",
              "    <path d=\"M0 0h24v24H0V0z\" fill=\"none\"/>\n",
              "    <path d=\"M18.56 5.44l.94 2.06.94-2.06 2.06-.94-2.06-.94-.94-2.06-.94 2.06-2.06.94zm-11 1L8.5 8.5l.94-2.06 2.06-.94-2.06-.94L8.5 2.5l-.94 2.06-2.06.94zm10 10l.94 2.06.94-2.06 2.06-.94-2.06-.94-.94-2.06-.94 2.06-2.06.94z\"/><path d=\"M17.41 7.96l-1.37-1.37c-.4-.4-.92-.59-1.43-.59-.52 0-1.04.2-1.43.59L10.3 9.45l-7.72 7.72c-.78.78-.78 2.05 0 2.83L4 21.41c.39.39.9.59 1.41.59.51 0 1.02-.2 1.41-.59l7.78-7.78 2.81-2.81c.8-.78.8-2.07 0-2.86zM5.41 20L4 18.59l7.72-7.72 1.47 1.35L5.41 20z\"/>\n",
              "  </svg>\n",
              "      </button>\n",
              "      \n",
              "  <style>\n",
              "    .colab-df-container {\n",
              "      display:flex;\n",
              "      flex-wrap:wrap;\n",
              "      gap: 12px;\n",
              "    }\n",
              "\n",
              "    .colab-df-convert {\n",
              "      background-color: #E8F0FE;\n",
              "      border: none;\n",
              "      border-radius: 50%;\n",
              "      cursor: pointer;\n",
              "      display: none;\n",
              "      fill: #1967D2;\n",
              "      height: 32px;\n",
              "      padding: 0 0 0 0;\n",
              "      width: 32px;\n",
              "    }\n",
              "\n",
              "    .colab-df-convert:hover {\n",
              "      background-color: #E2EBFA;\n",
              "      box-shadow: 0px 1px 2px rgba(60, 64, 67, 0.3), 0px 1px 3px 1px rgba(60, 64, 67, 0.15);\n",
              "      fill: #174EA6;\n",
              "    }\n",
              "\n",
              "    [theme=dark] .colab-df-convert {\n",
              "      background-color: #3B4455;\n",
              "      fill: #D2E3FC;\n",
              "    }\n",
              "\n",
              "    [theme=dark] .colab-df-convert:hover {\n",
              "      background-color: #434B5C;\n",
              "      box-shadow: 0px 1px 3px 1px rgba(0, 0, 0, 0.15);\n",
              "      filter: drop-shadow(0px 1px 2px rgba(0, 0, 0, 0.3));\n",
              "      fill: #FFFFFF;\n",
              "    }\n",
              "  </style>\n",
              "\n",
              "      <script>\n",
              "        const buttonEl =\n",
              "          document.querySelector('#df-f9f01f26-836a-42d1-879a-4216d833dd4b button.colab-df-convert');\n",
              "        buttonEl.style.display =\n",
              "          google.colab.kernel.accessAllowed ? 'block' : 'none';\n",
              "\n",
              "        async function convertToInteractive(key) {\n",
              "          const element = document.querySelector('#df-f9f01f26-836a-42d1-879a-4216d833dd4b');\n",
              "          const dataTable =\n",
              "            await google.colab.kernel.invokeFunction('convertToInteractive',\n",
              "                                                     [key], {});\n",
              "          if (!dataTable) return;\n",
              "\n",
              "          const docLinkHtml = 'Like what you see? Visit the ' +\n",
              "            '<a target=\"_blank\" href=https://colab.research.google.com/notebooks/data_table.ipynb>data table notebook</a>'\n",
              "            + ' to learn more about interactive tables.';\n",
              "          element.innerHTML = '';\n",
              "          dataTable['output_type'] = 'display_data';\n",
              "          await google.colab.output.renderOutput(dataTable, element);\n",
              "          const docLink = document.createElement('div');\n",
              "          docLink.innerHTML = docLinkHtml;\n",
              "          element.appendChild(docLink);\n",
              "        }\n",
              "      </script>\n",
              "    </div>\n",
              "  </div>\n",
              "  "
            ]
          },
          "metadata": {},
          "execution_count": 5
        }
      ]
    },
    {
      "cell_type": "code",
      "source": [
        "# Convert the shifted DataFrame to a NumPy array\n",
        "shifted_df_as_np = shifted_df.to_numpy()\n",
        "\n",
        "shifted_df_as_np\n"
      ],
      "metadata": {
        "colab": {
          "base_uri": "https://localhost:8080/"
        },
        "id": "yWcD1tHjfAU-",
        "outputId": "1e2b6d8f-d7e2-4674-9147-5cfd15ec2751"
      },
      "id": "yWcD1tHjfAU-",
      "execution_count": 6,
      "outputs": [
        {
          "output_type": "execute_result",
          "data": {
            "text/plain": [
              "array([[7.50000000e-02, 7.52600000e-02, 7.65630000e-02, ...,\n",
              "        6.97920000e-02, 7.13540000e-02, 8.17710000e-02],\n",
              "       [7.55210000e-02, 7.50000000e-02, 7.52600000e-02, ...,\n",
              "        7.50000000e-02, 6.97920000e-02, 7.13540000e-02],\n",
              "       [7.39580000e-02, 7.55210000e-02, 7.50000000e-02, ...,\n",
              "        7.91670000e-02, 7.50000000e-02, 6.97920000e-02],\n",
              "       ...,\n",
              "       [1.16750000e+02, 1.14989998e+02, 1.15010002e+02, ...,\n",
              "        1.15500000e+02, 1.13400002e+02, 1.11199997e+02],\n",
              "       [1.15000000e+02, 1.16750000e+02, 1.14989998e+02, ...,\n",
              "        1.18150002e+02, 1.15500000e+02, 1.13400002e+02],\n",
              "       [1.20110001e+02, 1.15000000e+02, 1.16750000e+02, ...,\n",
              "        1.16250000e+02, 1.18150002e+02, 1.15500000e+02]])"
            ]
          },
          "metadata": {},
          "execution_count": 6
        }
      ]
    },
    {
      "cell_type": "code",
      "source": [
        "#viewing dimensions of our df\n",
        "shifted_df_as_np.shape"
      ],
      "metadata": {
        "colab": {
          "base_uri": "https://localhost:8080/"
        },
        "id": "Pq2p3opGELA_",
        "outputId": "694149a5-07cd-49fe-dd79-9b8b96b71d5a"
      },
      "id": "Pq2p3opGELA_",
      "execution_count": 7,
      "outputs": [
        {
          "output_type": "execute_result",
          "data": {
            "text/plain": [
              "(6542, 8)"
            ]
          },
          "metadata": {},
          "execution_count": 7
        }
      ]
    },
    {
      "cell_type": "code",
      "source": [
        "from sklearn.preprocessing import MinMaxScaler\n",
        "\n",
        "# Create an instance of the MinMaxScaler with a feature range of (-1, 1)\n",
        "scaler = MinMaxScaler(feature_range=(-1, 1))\n",
        "\n",
        "# Apply the scaling transformation to the shifted DataFrame as a NumPy array\n",
        "shifted_df_as_np = scaler.fit_transform(shifted_df_as_np)\n",
        "\n",
        "shifted_df_as_np\n"
      ],
      "metadata": {
        "colab": {
          "base_uri": "https://localhost:8080/"
        },
        "id": "pXHkuFeafNUU",
        "outputId": "62f26c9f-b85e-4b1d-c61d-d8018e000e20"
      },
      "id": "pXHkuFeafNUU",
      "execution_count": 8,
      "outputs": [
        {
          "output_type": "execute_result",
          "data": {
            "text/plain": [
              "array([[-0.99995531, -0.99995253, -0.99993855, ..., -1.        ,\n",
              "        -0.99998325, -0.99987154],\n",
              "       [-0.99994973, -0.99995531, -0.99995253, ..., -0.99994415,\n",
              "        -1.        , -0.99998325],\n",
              "       [-0.99996649, -0.99994973, -0.99995531, ..., -0.99989946,\n",
              "        -0.99994415, -1.        ],\n",
              "       ...,\n",
              "       [ 0.25125338,  0.23237933,  0.23259385, ...,  0.23785279,\n",
              "         0.21533279,  0.19174033],\n",
              "       [ 0.23248659,  0.25125338,  0.23237933, ...,  0.26627093,\n",
              "         0.23785279,  0.21533279],\n",
              "       [ 0.28728563,  0.23248659,  0.25125338, ...,  0.24589565,\n",
              "         0.26627093,  0.23785279]])"
            ]
          },
          "metadata": {},
          "execution_count": 8
        }
      ]
    },
    {
      "cell_type": "code",
      "source": [
        "# Split the shifted array into input features (X) and target variable (y)\n",
        "X = shifted_df_as_np[:, 1:]  # All columns except the first column (closing price at t)\n",
        "y = shifted_df_as_np[:, 0]   # First column (closing price at t)\n",
        "\n",
        "# Display the shape of X and y\n",
        "X.shape, y.shape\n"
      ],
      "metadata": {
        "colab": {
          "base_uri": "https://localhost:8080/"
        },
        "id": "Iui9unuTfxOe",
        "outputId": "100fc57a-12c5-4504-91a5-607a3214f163"
      },
      "id": "Iui9unuTfxOe",
      "execution_count": 9,
      "outputs": [
        {
          "output_type": "execute_result",
          "data": {
            "text/plain": [
              "((6542, 7), (6542,))"
            ]
          },
          "metadata": {},
          "execution_count": 9
        }
      ]
    },
    {
      "cell_type": "code",
      "source": [
        "# Create a deep copy of the array X and reverse the order of columns\n",
        "X = dc(np.flip(X, axis=1))\n",
        "X"
      ],
      "metadata": {
        "colab": {
          "base_uri": "https://localhost:8080/"
        },
        "id": "XmbIqwj-E0cv",
        "outputId": "016b58e7-6517-48ed-e889-7413a83a7307"
      },
      "id": "XmbIqwj-E0cv",
      "execution_count": 10,
      "outputs": [
        {
          "output_type": "execute_result",
          "data": {
            "text/plain": [
              "array([[-0.99987154, -0.99998325, -1.        , ..., -0.99991063,\n",
              "        -0.99993855, -0.99995253],\n",
              "       [-0.99998325, -1.        , -0.99994415, ..., -0.99993855,\n",
              "        -0.99995253, -0.99995531],\n",
              "       [-1.        , -0.99994415, -0.99989946, ..., -0.99995253,\n",
              "        -0.99995531, -0.99994973],\n",
              "       ...,\n",
              "       [ 0.19174033,  0.21533279,  0.23785279, ...,  0.24589144,\n",
              "         0.23259385,  0.23237933],\n",
              "       [ 0.21533279,  0.23785279,  0.26627093, ...,  0.23259385,\n",
              "         0.23237933,  0.25125338],\n",
              "       [ 0.23785279,  0.26627093,  0.24589565, ...,  0.23237933,\n",
              "         0.25125338,  0.23248659]])"
            ]
          },
          "metadata": {},
          "execution_count": 10
        }
      ]
    },
    {
      "cell_type": "code",
      "source": [
        "# Calculate the index to split the data into training and testing sets\n",
        "split_index = int(len(X) * 0.95)\n",
        "\n",
        "split_index"
      ],
      "metadata": {
        "colab": {
          "base_uri": "https://localhost:8080/"
        },
        "id": "GCHslawXgE21",
        "outputId": "e7ec3ded-b522-4901-8ce4-c9685aba4f8a"
      },
      "id": "GCHslawXgE21",
      "execution_count": 11,
      "outputs": [
        {
          "output_type": "execute_result",
          "data": {
            "text/plain": [
              "6214"
            ]
          },
          "metadata": {},
          "execution_count": 11
        }
      ]
    },
    {
      "cell_type": "code",
      "source": [
        "# Split the data into training and testing sets\n",
        "X_train = X[:split_index]   # First split_index rows for training\n",
        "X_test = X[split_index:]    # Remaining rows for testing\n",
        "\n",
        "y_train = y[:split_index]   # First split_index elements for training\n",
        "y_test = y[split_index:]    # Remaining elements for testing\n",
        "\n",
        "# Display the shapes of the training and testing sets\n",
        "X_train.shape, X_test.shape, y_train.shape, y_test.shape\n"
      ],
      "metadata": {
        "colab": {
          "base_uri": "https://localhost:8080/"
        },
        "id": "hhGMh_nAgiST",
        "outputId": "ed1de75c-dfd2-477b-f9a7-224d10aa79f3"
      },
      "id": "hhGMh_nAgiST",
      "execution_count": 12,
      "outputs": [
        {
          "output_type": "execute_result",
          "data": {
            "text/plain": [
              "((6214, 7), (328, 7), (6214,), (328,))"
            ]
          },
          "metadata": {},
          "execution_count": 12
        }
      ]
    },
    {
      "cell_type": "code",
      "source": [
        "# Reshape the training and testing sets to match the expected input shape for LSTM\n",
        "X_train = X_train.reshape((-1, lookback, 1))   # Reshape X_train to (number of samples, lookback, 1)\n",
        "X_test = X_test.reshape((-1, lookback, 1))     # Reshape X_test to (number of samples, lookback, 1)\n",
        "\n",
        "y_train = y_train.reshape((-1, 1))             # Reshape y_train to (number of samples, 1)\n",
        "y_test = y_test.reshape((-1, 1))               # Reshape y_test to (number of samples, 1)\n",
        "\n",
        "# Display the shapes of the reshaped arrays\n",
        "X_train.shape, X_test.shape, y_train.shape, y_test.shape\n"
      ],
      "metadata": {
        "colab": {
          "base_uri": "https://localhost:8080/"
        },
        "id": "Muqs9hKYhMUS",
        "outputId": "ecd32f90-3d9c-4a8f-96b6-7cca9070727b"
      },
      "id": "Muqs9hKYhMUS",
      "execution_count": 13,
      "outputs": [
        {
          "output_type": "execute_result",
          "data": {
            "text/plain": [
              "((6214, 7, 1), (328, 7, 1), (6214, 1), (328, 1))"
            ]
          },
          "metadata": {},
          "execution_count": 13
        }
      ]
    },
    {
      "cell_type": "code",
      "source": [
        "X_train = torch.tensor(X_train).float()\n",
        "y_train = torch.tensor(y_train).float()\n",
        "X_test = torch.tensor(X_test).float()\n",
        "y_test = torch.tensor(y_test).float()\n",
        "\n",
        "X_train.shape, X_test.shape, y_train.shape, y_test.shape"
      ],
      "metadata": {
        "colab": {
          "base_uri": "https://localhost:8080/"
        },
        "id": "i7-PBcrMhR7z",
        "outputId": "7304baf2-7d20-49d9-fdc5-0a0246752a59"
      },
      "id": "i7-PBcrMhR7z",
      "execution_count": 14,
      "outputs": [
        {
          "output_type": "execute_result",
          "data": {
            "text/plain": [
              "(torch.Size([6214, 7, 1]),\n",
              " torch.Size([328, 7, 1]),\n",
              " torch.Size([6214, 1]),\n",
              " torch.Size([328, 1]))"
            ]
          },
          "metadata": {},
          "execution_count": 14
        }
      ]
    },
    {
      "cell_type": "code",
      "source": [
        "from torch.utils.data import Dataset\n",
        "\n",
        "class TimeSeriesDataset(Dataset):\n",
        "    def __init__(self, X, y):\n",
        "        self.X = X\n",
        "        self.y = y\n",
        "\n",
        "    def __len__(self):\n",
        "        return len(self.X)\n",
        "\n",
        "    def __getitem__(self, i):\n",
        "        return self.X[i], self.y[i]\n",
        "    \n",
        "train_dataset = TimeSeriesDataset(X_train, y_train)\n",
        "test_dataset = TimeSeriesDataset(X_test, y_test)"
      ],
      "metadata": {
        "id": "DWutCAGKhdqU"
      },
      "id": "DWutCAGKhdqU",
      "execution_count": 15,
      "outputs": []
    },
    {
      "cell_type": "code",
      "source": [
        "train_dataset"
      ],
      "metadata": {
        "colab": {
          "base_uri": "https://localhost:8080/"
        },
        "id": "12OWUTa5ijoq",
        "outputId": "f3014d2f-dbac-495b-d6cb-8ad35e220820"
      },
      "id": "12OWUTa5ijoq",
      "execution_count": 16,
      "outputs": [
        {
          "output_type": "execute_result",
          "data": {
            "text/plain": [
              "<__main__.TimeSeriesDataset at 0x7f825f02efb0>"
            ]
          },
          "metadata": {},
          "execution_count": 16
        }
      ]
    },
    {
      "cell_type": "code",
      "source": [
        "from torch.utils.data import DataLoader\n",
        "\n",
        "batch_size = 16\n",
        "\n",
        "train_loader = DataLoader(train_dataset, batch_size=batch_size, shuffle=True)\n",
        "test_loader = DataLoader(test_dataset, batch_size=batch_size, shuffle=False)"
      ],
      "metadata": {
        "id": "XYsUmPl3ik46"
      },
      "id": "XYsUmPl3ik46",
      "execution_count": 17,
      "outputs": []
    },
    {
      "cell_type": "code",
      "source": [
        "for _, batch in enumerate(train_loader):\n",
        "    x_batch, y_batch = batch[0].to(device), batch[1].to(device)\n",
        "    print(x_batch.shape, y_batch.shape)\n",
        "    break"
      ],
      "metadata": {
        "colab": {
          "base_uri": "https://localhost:8080/"
        },
        "id": "TJTnbgBDjOSK",
        "outputId": "139304fc-c68e-4b13-d62f-68a42a929e8f"
      },
      "id": "TJTnbgBDjOSK",
      "execution_count": 18,
      "outputs": [
        {
          "output_type": "stream",
          "name": "stdout",
          "text": [
            "torch.Size([16, 7, 1]) torch.Size([16, 1])\n"
          ]
        }
      ]
    },
    {
      "cell_type": "code",
      "source": [
        "class LSTM(nn.Module):\n",
        "    def __init__(self, input_size, hidden_size, num_stacked_layers):\n",
        "        super().__init__()\n",
        "        self.hidden_size = hidden_size\n",
        "        self.num_stacked_layers = num_stacked_layers\n",
        "\n",
        "        self.lstm = nn.LSTM(input_size, hidden_size, num_stacked_layers, \n",
        "                            batch_first=True)\n",
        "        \n",
        "        self.fc = nn.Linear(hidden_size, 1)\n",
        "\n",
        "    def forward(self, x):\n",
        "        batch_size = x.size(0)\n",
        "        h0 = torch.zeros(self.num_stacked_layers, batch_size, self.hidden_size).to(device)\n",
        "        c0 = torch.zeros(self.num_stacked_layers, batch_size, self.hidden_size).to(device)\n",
        "        \n",
        "        out, _ = self.lstm(x, (h0, c0))\n",
        "        out = self.fc(out[:, -1, :])\n",
        "        return out\n",
        "\n",
        "model = LSTM(1, 4, 1)\n",
        "model.to(device)\n",
        "model"
      ],
      "metadata": {
        "colab": {
          "base_uri": "https://localhost:8080/"
        },
        "id": "njdkq_kmjib5",
        "outputId": "8952b9a7-7794-4abc-946f-fdee65a96d83"
      },
      "id": "njdkq_kmjib5",
      "execution_count": 19,
      "outputs": [
        {
          "output_type": "execute_result",
          "data": {
            "text/plain": [
              "LSTM(\n",
              "  (lstm): LSTM(1, 4, batch_first=True)\n",
              "  (fc): Linear(in_features=4, out_features=1, bias=True)\n",
              ")"
            ]
          },
          "metadata": {},
          "execution_count": 19
        }
      ]
    },
    {
      "cell_type": "code",
      "source": [
        "def train_one_epoch():\n",
        "    model.train(True)\n",
        "    print(f'Epoch: {epoch + 1}')\n",
        "    running_loss = 0.0\n",
        "    \n",
        "    for batch_index, batch in enumerate(train_loader):\n",
        "        x_batch, y_batch = batch[0].to(device), batch[1].to(device)\n",
        "        \n",
        "        output = model(x_batch)\n",
        "        loss = loss_function(output, y_batch)\n",
        "        running_loss += loss.item()\n",
        "        \n",
        "        optimizer.zero_grad()\n",
        "        loss.backward()\n",
        "        optimizer.step()\n",
        "\n",
        "        if batch_index % 100 == 99:  # print every 100 batches\n",
        "            avg_loss_across_batches = running_loss / 100\n",
        "            print('Batch {0}, Loss: {1:.3f}'.format(batch_index+1,\n",
        "                                                    avg_loss_across_batches))\n",
        "            running_loss = 0.0\n",
        "    print()"
      ],
      "metadata": {
        "id": "iue5WvTxmVKB"
      },
      "id": "iue5WvTxmVKB",
      "execution_count": 20,
      "outputs": []
    },
    {
      "cell_type": "code",
      "source": [
        "def validate_one_epoch():\n",
        "    model.train(False)\n",
        "    running_loss = 0.0\n",
        "    \n",
        "    for batch_index, batch in enumerate(test_loader):\n",
        "        x_batch, y_batch = batch[0].to(device), batch[1].to(device)\n",
        "        \n",
        "        with torch.no_grad():\n",
        "            output = model(x_batch)\n",
        "            loss = loss_function(output, y_batch)\n",
        "            running_loss += loss.item()\n",
        "\n",
        "    avg_loss_across_batches = running_loss / len(test_loader)\n",
        "    \n",
        "    print('Val Loss: {0:.3f}'.format(avg_loss_across_batches))\n",
        "    print('***************************************************')\n",
        "    print()"
      ],
      "metadata": {
        "id": "gRmNuV3cmy-t"
      },
      "id": "gRmNuV3cmy-t",
      "execution_count": 21,
      "outputs": []
    },
    {
      "cell_type": "code",
      "source": [
        "learning_rate = 0.001\n",
        "num_epochs = 10\n",
        "loss_function = nn.MSELoss()\n",
        "optimizer = torch.optim.Adam(model.parameters(), lr=learning_rate)\n",
        "\n",
        "for epoch in range(num_epochs):\n",
        "    train_one_epoch()\n",
        "    validate_one_epoch()"
      ],
      "metadata": {
        "colab": {
          "base_uri": "https://localhost:8080/"
        },
        "id": "1jgb1aJ3lxlQ",
        "outputId": "01acd869-a901-41e2-81c2-3bafa540baa2"
      },
      "id": "1jgb1aJ3lxlQ",
      "execution_count": 22,
      "outputs": [
        {
          "output_type": "stream",
          "name": "stdout",
          "text": [
            "Epoch: 1\n",
            "Batch 100, Loss: 0.853\n",
            "Batch 200, Loss: 0.463\n",
            "Batch 300, Loss: 0.199\n",
            "\n",
            "Val Loss: 0.042\n",
            "***************************************************\n",
            "\n",
            "Epoch: 2\n",
            "Batch 100, Loss: 0.018\n",
            "Batch 200, Loss: 0.013\n",
            "Batch 300, Loss: 0.008\n",
            "\n",
            "Val Loss: 0.014\n",
            "***************************************************\n",
            "\n",
            "Epoch: 3\n",
            "Batch 100, Loss: 0.005\n",
            "Batch 200, Loss: 0.004\n",
            "Batch 300, Loss: 0.002\n",
            "\n",
            "Val Loss: 0.010\n",
            "***************************************************\n",
            "\n",
            "Epoch: 4\n",
            "Batch 100, Loss: 0.001\n",
            "Batch 200, Loss: 0.001\n",
            "Batch 300, Loss: 0.001\n",
            "\n",
            "Val Loss: 0.006\n",
            "***************************************************\n",
            "\n",
            "Epoch: 5\n",
            "Batch 100, Loss: 0.001\n",
            "Batch 200, Loss: 0.000\n",
            "Batch 300, Loss: 0.000\n",
            "\n",
            "Val Loss: 0.004\n",
            "***************************************************\n",
            "\n",
            "Epoch: 6\n",
            "Batch 100, Loss: 0.000\n",
            "Batch 200, Loss: 0.000\n",
            "Batch 300, Loss: 0.000\n",
            "\n",
            "Val Loss: 0.004\n",
            "***************************************************\n",
            "\n",
            "Epoch: 7\n",
            "Batch 100, Loss: 0.000\n",
            "Batch 200, Loss: 0.000\n",
            "Batch 300, Loss: 0.000\n",
            "\n",
            "Val Loss: 0.004\n",
            "***************************************************\n",
            "\n",
            "Epoch: 8\n",
            "Batch 100, Loss: 0.000\n",
            "Batch 200, Loss: 0.000\n",
            "Batch 300, Loss: 0.000\n",
            "\n",
            "Val Loss: 0.003\n",
            "***************************************************\n",
            "\n",
            "Epoch: 9\n",
            "Batch 100, Loss: 0.000\n",
            "Batch 200, Loss: 0.000\n",
            "Batch 300, Loss: 0.000\n",
            "\n",
            "Val Loss: 0.003\n",
            "***************************************************\n",
            "\n",
            "Epoch: 10\n",
            "Batch 100, Loss: 0.000\n",
            "Batch 200, Loss: 0.000\n",
            "Batch 300, Loss: 0.000\n",
            "\n",
            "Val Loss: 0.003\n",
            "***************************************************\n",
            "\n"
          ]
        }
      ]
    },
    {
      "cell_type": "code",
      "source": [
        "with torch.no_grad():\n",
        "    predicted = model(X_train.to(device)).to('cpu').numpy()\n",
        "\n",
        "plt.plot(y_train, label='Actual Close')\n",
        "plt.plot(predicted, label='Predicted Close')\n",
        "plt.xlabel('Day')\n",
        "plt.ylabel('Close')\n",
        "plt.legend()\n",
        "plt.show()\n"
      ],
      "metadata": {
        "colab": {
          "base_uri": "https://localhost:8080/",
          "height": 449
        },
        "id": "-Xon2PHWno7t",
        "outputId": "4a94a8ca-3405-4f5d-d5bd-c7c74140c70c"
      },
      "id": "-Xon2PHWno7t",
      "execution_count": 23,
      "outputs": [
        {
          "output_type": "display_data",
          "data": {
            "text/plain": [
              "<Figure size 640x480 with 1 Axes>"
            ],
            "image/png": "[encoded data removed]"
          },
          "metadata": {}
        }
      ]
    },
    {
      "cell_type": "code",
      "source": [
        "train_predictions = predicted.flatten()\n",
        "\n",
        "dummies = np.zeros((X_train.shape[0], lookback+1))\n",
        "dummies[:, 0] = train_predictions\n",
        "dummies = scaler.inverse_transform(dummies)\n",
        "\n",
        "train_predictions = dc(dummies[:, 0])\n",
        "train_predictions"
      ],
      "metadata": {
        "colab": {
          "base_uri": "https://localhost:8080/"
        },
        "id": "d3SDgEvPpOcD",
        "outputId": "2c31e37e-babf-49ff-f6a9-970c20b661f7"
      },
      "id": "d3SDgEvPpOcD",
      "execution_count": 24,
      "outputs": [
        {
          "output_type": "execute_result",
          "data": {
            "text/plain": [
              "array([  0.29651503,   0.29660952,   0.29664842, ..., 149.51051535,\n",
              "       151.03479726, 149.29543822])"
            ]
          },
          "metadata": {},
          "execution_count": 24
        }
      ]
    },
    {
      "cell_type": "code",
      "source": [
        "dummies = np.zeros((X_train.shape[0], lookback+1))\n",
        "dummies[:, 0] = y_train.flatten()\n",
        "dummies = scaler.inverse_transform(dummies)\n",
        "\n",
        "new_y_train = dc(dummies[:, 0])\n",
        "new_y_train"
      ],
      "metadata": {
        "colab": {
          "base_uri": "https://localhost:8080/"
        },
        "id": "PHnvejOdrL7Q",
        "outputId": "62f16a38-8bca-4a35-bbfa-a7b777af0d09"
      },
      "id": "PHnvejOdrL7Q",
      "execution_count": 25,
      "outputs": [
        {
          "output_type": "execute_result",
          "data": {
            "text/plain": [
              "array([7.50015923e-02, 7.55184978e-02, 7.39566652e-02, ...,\n",
              "       1.50612502e+02, 1.38845505e+02, 1.57639498e+02])"
            ]
          },
          "metadata": {},
          "execution_count": 25
        }
      ]
    },
    {
      "cell_type": "code",
      "source": [
        "plt.plot(new_y_train, label='Actual Close')\n",
        "plt.plot(train_predictions, label='Predicted Close')\n",
        "plt.xlabel('Day')\n",
        "plt.ylabel('Close')\n",
        "plt.legend()\n",
        "plt.show()\n"
      ],
      "metadata": {
        "colab": {
          "base_uri": "https://localhost:8080/",
          "height": 449
        },
        "id": "2LlDAUtyrcrN",
        "outputId": "f50309b1-f44f-4cc6-8718-55c8c9c3a2ff"
      },
      "id": "2LlDAUtyrcrN",
      "execution_count": 26,
      "outputs": [
        {
          "output_type": "display_data",
          "data": {
            "text/plain": [
              "<Figure size 640x480 with 1 Axes>"
            ],
            "image/png": "[encoded data removed]"
          },
          "metadata": {}
        }
      ]
    },
    {
      "cell_type": "code",
      "source": [
        "test_predictions = model(X_test.to(device)).detach().cpu().numpy().flatten()\n",
        "\n",
        "dummies = np.zeros((X_test.shape[0], lookback+1))\n",
        "dummies[:, 0] = test_predictions\n",
        "dummies = scaler.inverse_transform(dummies)\n",
        "\n",
        "test_predictions = dc(dummies[:, 0])\n",
        "test_predictions"
      ],
      "metadata": {
        "id": "yYeC2JMorftR",
        "colab": {
          "base_uri": "https://localhost:8080/"
        },
        "outputId": "b970288b-888f-4ffe-ebc9-db57a7f5f8ec"
      },
      "id": "yYeC2JMorftR",
      "execution_count": 27,
      "outputs": [
        {
          "output_type": "execute_result",
          "data": {
            "text/plain": [
              "array([152.0972436 , 154.77907134, 157.43155219, 159.26830066,\n",
              "       160.09371528, 159.41282297, 159.37473871, 159.13331608,\n",
              "       159.34650345, 158.76051053, 157.77653933, 156.46628407,\n",
              "       154.25624649, 153.89657479, 154.40958955, 154.85586237,\n",
              "       154.75130852, 154.84064423, 154.0061254 , 152.80127994,\n",
              "       149.48958346, 146.16605374, 144.51293454, 145.60999132,\n",
              "       146.48695198, 146.33104107, 147.52882215, 150.15997092,\n",
              "       153.26630586, 156.4364036 , 158.69283482, 161.00436928,\n",
              "       162.57925234, 163.5567928 , 164.31359795, 165.53847489,\n",
              "       166.51915568, 166.73781224, 166.12710791, 165.68226909,\n",
              "       166.19783503, 165.95334987, 164.55344208, 163.10224949,\n",
              "       161.34372605, 159.25270456, 157.4510612 , 157.04427329,\n",
              "       156.21098836, 155.89165195, 156.89871716, 157.03093379,\n",
              "       155.79743065, 153.67406645, 152.16628661, 149.47811706,\n",
              "       146.85705628, 146.4811493 , 140.94204611, 136.12101908,\n",
              "       132.40085058, 130.32430801, 126.15033544, 122.31455242,\n",
              "       117.63246735, 114.17013601, 110.60863247, 108.7451272 ,\n",
              "       110.02987901, 110.81058131, 112.97195752, 112.04306454,\n",
              "       110.91727782, 109.86744564, 109.02298055, 107.43510815,\n",
              "       107.0890872 , 108.63629359, 111.31045945, 115.13185805,\n",
              "       118.60108701, 122.24568171, 123.90978932, 125.46912631,\n",
              "       125.89246631, 125.36915235, 123.12156966, 118.95312741,\n",
              "       113.43779215, 108.60194717, 107.18383097, 105.62830685,\n",
              "       105.76857998, 107.0799163 , 108.32930178, 110.28501353,\n",
              "       113.05210843, 114.25823782, 112.92632811, 111.86263675,\n",
              "       110.04728705, 109.6695709 , 111.01927494, 112.77355198,\n",
              "       114.84495607, 116.10191727, 115.64315535, 114.02880406,\n",
              "       112.89193444, 112.18810932, 112.78421524, 113.62253861,\n",
              "       115.80841224, 119.02558311, 122.11028028, 123.67743199,\n",
              "       124.13788358, 122.14467394, 122.12604867, 122.71111894,\n",
              "       127.22666041, 131.24562249, 133.90612927, 137.15865952,\n",
              "       140.50265425, 142.37765373, 143.17866819, 142.89503161,\n",
              "       143.86677494, 144.22269491, 145.0792128 , 145.65052115,\n",
              "       146.52326876, 146.54310014, 146.51447025, 145.25391572,\n",
              "       142.77315865, 140.7105614 , 139.25897419, 139.2687287 ,\n",
              "       137.69084981, 136.04704602, 134.53686507, 132.87184038,\n",
              "       131.90348194, 131.20452573, 130.32395229, 130.81022136,\n",
              "       131.4686922 , 133.05930475, 135.31546919, 134.26350547,\n",
              "       133.5102186 , 132.18634038, 130.1676134 , 128.90232336,\n",
              "       127.27086972, 124.92563636, 122.77847783, 120.02711242,\n",
              "       118.42406635, 117.21302915, 117.70834684, 117.38968297,\n",
              "       116.52963707, 116.73276285, 118.6649165 , 120.34051831,\n",
              "       121.38994197, 120.23400244, 118.66367704, 116.76029223,\n",
              "       115.47113144, 114.59055244, 112.26628432, 112.75518794,\n",
              "       114.33179958, 115.36058037, 116.14250268, 117.9533767 ,\n",
              "       119.55444963, 120.89275118, 120.22304738, 117.84221424,\n",
              "       113.10127003, 108.68960155, 103.52226732,  98.2078985 ,\n",
              "        93.7321796 ,  91.50293384,  90.44280176,  89.85088667,\n",
              "        88.64532908,  90.97501289,  94.46214457,  96.64005481,\n",
              "        98.31980714,  98.70980813,  97.74697725,  96.05987291,\n",
              "        94.3730965 ,  93.56747018,  93.4281725 ,  93.40689183,\n",
              "        93.65324313,  93.35990346,  94.37233364,  94.91797459,\n",
              "        94.88790653,  93.76508646,  91.71785674,  90.02106458,\n",
              "        89.3360947 ,  88.98629005,  89.43108094,  90.60487107,\n",
              "        91.26552973,  90.57904109,  89.56637468,  87.76876791,\n",
              "        86.24020763,  85.77136328,  84.94330159,  84.89483754,\n",
              "        84.23541348,  83.33938985,  83.21208034,  83.26957565,\n",
              "        84.13284805,  84.6171815 ,  84.44647834,  84.93261888,\n",
              "        85.64288448,  87.12371576,  89.96123486,  92.47538236,\n",
              "        95.11851861,  96.23017936,  96.48813741,  95.68763707,\n",
              "        95.91247426,  96.44193968,  96.5440424 ,  96.98423463,\n",
              "        97.91364591,  99.60696423, 100.3683868 , 101.71845212,\n",
              "       103.36932723, 106.99196734, 106.93435461, 105.90191102,\n",
              "       104.74264773, 102.93336195, 100.8833205 ,  99.22314527,\n",
              "        99.17644036,  99.28626192, 100.0117012 ,  99.76707153,\n",
              "        99.09086749,  97.51779916,  96.50904707,  95.93762199,\n",
              "        94.94426173,  94.43350635,  94.23671405,  93.5242516 ,\n",
              "        92.84030302,  93.32989515,  93.58621356,  93.66192353,\n",
              "        93.83713502,  93.45510994,  92.45693356,  92.10292559,\n",
              "        92.87275829,  94.08095877,  96.36087029,  97.93979271,\n",
              "        98.52345677,  99.48950581,  99.52207502,  99.37152214,\n",
              "        98.97538081,  98.71487436,  98.22358492,  98.76523096,\n",
              "       100.04293507, 101.52422768, 102.40590301, 103.39903261,\n",
              "       103.11662994, 102.8713583 , 102.6947281 , 101.85726207,\n",
              "       100.48640104, 100.86307782, 101.5484333 , 102.20744606,\n",
              "       102.63678606, 103.56821076, 104.06069938, 105.26755132,\n",
              "       106.104638  , 105.47028941, 105.48210876, 107.04878803,\n",
              "       107.08190889, 105.77469392, 105.1175209 , 104.65240882,\n",
              "       104.3610798 , 104.83751655, 105.59066168, 106.4053408 ,\n",
              "       108.08067303, 110.09768811, 111.01759639, 111.77985406,\n",
              "       112.93469864, 114.44428487, 116.42767886, 117.37575432,\n",
              "       117.51959298, 117.38321332, 117.70806338, 117.41661764])"
            ]
          },
          "metadata": {},
          "execution_count": 27
        }
      ]
    },
    {
      "cell_type": "code",
      "source": [
        "dummies = np.zeros((X_test.shape[0], lookback+1))\n",
        "dummies[:, 0] = y_test.flatten()\n",
        "dummies = scaler.inverse_transform(dummies)\n",
        "\n",
        "new_y_test = dc(dummies[:, 0])\n",
        "new_y_test"
      ],
      "metadata": {
        "id": "g-DJXBgYsFyI",
        "colab": {
          "base_uri": "https://localhost:8080/"
        },
        "outputId": "e8ffbd63-776f-4dc3-b5b6-35faea66d179"
      },
      "id": "g-DJXBgYsFyI",
      "execution_count": 28,
      "outputs": [
        {
          "output_type": "execute_result",
          "data": {
            "text/plain": [
              "array([157.93550165, 161.41349717, 161.18949925, 159.003495  ,\n",
              "       153.29350176, 155.1670061 , 156.51049894, 158.10049453,\n",
              "       154.6524962 , 152.60149876, 150.19749381, 144.82699629,\n",
              "       151.35800212, 153.78849709, 153.56300403, 151.14199678,\n",
              "       152.05250627, 147.89849848, 145.64100565, 137.45300383,\n",
              "       136.01449488, 139.27900567, 146.81750468, 145.52450739,\n",
              "       141.8529947 , 147.36650272, 153.10400311, 157.23899657,\n",
              "       161.25050521, 161.49149987, 164.8890082 , 163.4080074 ,\n",
              "       163.64950785, 164.77349929, 168.99049174, 169.31500275,\n",
              "       166.30099379, 162.99749555, 163.55999984, 168.34649425,\n",
              "       164.05499516, 158.75599734, 157.78449856, 154.4604964 ,\n",
              "       151.1219931 , 150.78750525, 155.54100108, 151.70649644,\n",
              "       152.78500575, 158.11549591, 153.99799942, 148.29600432,\n",
              "       144.35000372, 146.07400567, 139.39100462, 138.16700588,\n",
              "       144.59649537, 124.2815027 , 124.50000086, 124.25350088,\n",
              "       125.92849685, 116.40699847, 114.77249899, 108.78900163,\n",
              "       108.85900063, 105.37200234, 106.93049589, 113.05500005,\n",
              "       110.81050072, 115.36850069, 107.11250358, 107.31900035,\n",
              "       107.59100239, 107.55699918, 104.09999809, 106.77500184,\n",
              "       111.07749906, 115.14649953, 120.20950223, 121.68399725,\n",
              "       125.51100121, 122.34999935, 124.79000149, 122.99999961,\n",
              "       121.18000054, 116.15000198, 109.65000214, 103.66999806,\n",
              "       102.30999829, 107.6699986 , 103.66000386, 106.22000101,\n",
              "       108.67999989, 108.94999683, 112.44000207, 116.45999935,\n",
              "       113.22000127, 107.40000166, 108.91999825, 106.20999917,\n",
              "       109.55999806, 113.50000006, 114.33000152, 116.3300018 ,\n",
              "       115.54000075, 111.74999999, 109.22000073, 110.40000137,\n",
              "       110.62999651, 113.55000232, 113.76000211, 118.20999802,\n",
              "       122.76999614, 124.62999702, 122.41999835, 121.13999873,\n",
              "       114.80999825, 120.97000076, 122.28000035, 134.94999758,\n",
              "       135.38999806, 134.16000488, 139.5200031 , 142.57000925,\n",
              "       140.80000272, 139.41000507, 137.83000298, 142.69000357,\n",
              "       140.64000103, 143.55000084, 143.17999102, 144.7799968 ,\n",
              "       142.10000324, 142.30000119, 138.22999608, 133.22000121,\n",
              "       133.61999431, 133.80000247, 137.27999891, 130.7499991 ,\n",
              "       129.78999174, 128.72999653, 126.76999668, 127.82000117,\n",
              "       127.51000241, 126.11000014, 129.47999576, 129.82000839,\n",
              "       133.27000486, 136.44999605, 126.82000034, 128.55000227,\n",
              "       126.27999811, 123.52999999, 124.66000532, 122.19000322,\n",
              "       118.54000046, 117.30999894, 113.77999884, 115.15000254,\n",
              "       114.41000376, 118.01000286, 114.80000336, 112.99999964,\n",
              "       115.8799967 , 121.08999508, 120.94999707, 120.30000237,\n",
              "       114.55999805, 113.66999803, 112.2099986 , 112.90000206,\n",
              "       112.5299992 , 106.90000263, 113.79000069, 116.36000038,\n",
              "       115.0700003 , 115.25000012, 119.31999967, 119.82000008,\n",
              "       120.59999928, 115.66000341, 110.95999895, 103.41000365,\n",
              "       102.4400021 ,  96.79000116,  92.12000301,  89.30000302,\n",
              "        90.98000304,  90.52999899,  89.98000291,  86.13999884,\n",
              "        96.62999704, 100.79000101,  98.48999791,  98.94000197,\n",
              "        97.1200029 ,  94.84999805,  94.13999897,  92.45999904,\n",
              "        93.199997  ,  94.12999696,  93.410004  ,  93.94999701,\n",
              "        92.41999801,  96.54000095,  95.50000004,  94.12999696,\n",
              "        91.01000197,  88.24999993,  88.45999902,  90.34999813,\n",
              "        89.08999594,  90.55000302,  92.48999797,  91.58000208,\n",
              "        88.44999683,  87.86000102,  84.91999777,  85.19000167,\n",
              "        86.76999681,  83.79000078,  85.25000022,  83.04000085,\n",
              "        81.81999979,  84.17999969,  83.99999987,  85.82000033,\n",
              "        85.13999871,  83.12000309,  86.08000168,  87.3600013 ,\n",
              "        89.87000314,  95.08999606,  95.26999692,  98.12000304,\n",
              "        96.05000307,  95.45999893,  93.68      ,  97.25000011,\n",
              "        97.51999705,  96.32000002,  97.18000006,  99.22000076,\n",
              "       102.2399979 , 100.55000334, 103.12999722, 105.15000257,\n",
              "       112.9100039 , 103.38999927, 102.18000005, 102.11000105,\n",
              "       100.05000292,  98.23999805,  97.61000113,  99.54000066,\n",
              "        99.69999679, 101.16000387,  98.15000197,  97.19999715,\n",
              "        94.58000197,  95.79000102,  95.81999995,  93.5       ,\n",
              "        93.760002  ,  94.23000296,  92.16999798,  92.12999703,\n",
              "        94.90000205,  93.74999998,  93.55000299,  93.919998  ,\n",
              "        92.25000004,  90.73000301,  92.43000003,  94.87999697,\n",
              "        96.19999701, 100.04000108,  98.94999687,  97.70999906,\n",
              "       100.61000119,  98.69999701,  98.70999885,  98.12999689,\n",
              "        98.04000115,  97.23999792, 100.25000017, 102.00000023,\n",
              "       103.290001  , 102.41000421, 103.94999685, 101.09999768,\n",
              "       102.05999809, 102.16999821,  99.91999773,  97.83000206,\n",
              "       102.40000168, 102.5100018 , 102.73999832, 102.3000027 ,\n",
              "       104.30000298, 103.80999815, 106.9599984 , 106.20999917,\n",
              "       102.57000034, 104.98000321, 109.82000011, 105.44999671,\n",
              "       102.05000319, 103.62999694, 103.65000202, 103.99999981,\n",
              "       105.66000344, 105.83000141, 106.62000246, 110.19000159,\n",
              "       112.18000002, 110.26000198, 111.19999731, 113.40000247,\n",
              "       115.50000033, 118.15000086, 116.24999956, 115.01000176,\n",
              "       114.98999807, 116.75000137, 114.99999991, 120.11000071])"
            ]
          },
          "metadata": {},
          "execution_count": 28
        }
      ]
    },
    {
      "cell_type": "code",
      "source": [
        "plt.plot(new_y_test, label='Actual Close')\n",
        "plt.plot(test_predictions, label='Predicted Close')\n",
        "plt.xlabel('Day')\n",
        "plt.ylabel('Close')\n",
        "plt.legend()\n",
        "plt.show()\n"
      ],
      "metadata": {
        "colab": {
          "base_uri": "https://localhost:8080/",
          "height": 449
        },
        "id": "PhLmIlHOsSK4",
        "outputId": "f463157f-da5a-4892-868a-a838c3f1aba5"
      },
      "id": "PhLmIlHOsSK4",
      "execution_count": 29,
      "outputs": [
        {
          "output_type": "display_data",
          "data": {
            "text/plain": [
              "<Figure size 640x480 with 1 Axes>"
            ],
            "image/png": "[encoded data removed]"
          },
          "metadata": {}
        }
      ]
    },
    {
      "cell_type": "code",
      "source": [],
      "metadata": {
        "id": "-CuelDg2seDP"
      },
      "id": "-CuelDg2seDP",
      "execution_count": 29,
      "outputs": []
    }
  ],
  "metadata": {
    "kernelspec": {
      "display_name": "Python 3",
      "name": "python3"
    },
    "language_info": {
      "name": "python"
    },
    "colab": {
      "provenance": [],
      "gpuType": "T4",
      "include_colab_link": true
    },
    "accelerator": "GPU"
  },
  "nbformat": 4,
  "nbformat_minor": 5
}